{
  "nbformat": 4,
  "nbformat_minor": 0,
  "metadata": {
    "colab": {
      "name": "Untitled0.ipynb",
      "provenance": [],
      "authorship_tag": "ABX9TyMoTx57SQkl4LZXIgKMMWQb",
      "include_colab_link": true
    },
    "kernelspec": {
      "name": "python3",
      "display_name": "Python 3"
    },
    "language_info": {
      "name": "python"
    }
  },
  "cells": [
    {
      "cell_type": "markdown",
      "metadata": {
        "id": "view-in-github",
        "colab_type": "text"
      },
      "source": [
        "<a href=\"https://colab.research.google.com/github/kmAyushkm/E-mailing/blob/main/Untitled0.ipynb\" target=\"_parent\"><img src=\"https://colab.research.google.com/assets/colab-badge.svg\" alt=\"Open In Colab\"/></a>"
      ]
    },
    {
      "cell_type": "code",
      "metadata": {
        "id": "T5ITCZhepARU"
      },
      "source": [
        ""
      ],
      "execution_count": null,
      "outputs": []
    },
    {
      "cell_type": "markdown",
      "metadata": {
        "id": "4ZOymVHLpHIM"
      },
      "source": [
        ""
      ]
    },
    {
      "cell_type": "code",
      "metadata": {
        "colab": {
          "base_uri": "https://localhost:8080/"
        },
        "id": "hXymwmcIpH0n",
        "outputId": "f81b5207-287c-4662-8729-96b454b93aa6"
      },
      "source": [
        "import kivy\n",
        "\n",
        "kivy.require(\"1.11.1\")\n",
        "\n",
        "from kivy.app import App\n",
        "from kivy.uix.widget import Widget\n",
        "\n",
        "class MyLayout123(Widget):\n",
        "\tpass\n",
        "\n",
        "\n",
        "class My11App(App):\n",
        "\tdef build(self):\n",
        "\t\treturn MyLayout123()\n",
        "\n",
        "\n",
        "My11App().run()"
      ],
      "execution_count": null,
      "outputs": [
        {
          "output_type": "stream",
          "text": [
            "[INFO   ] [Logger      ] Record log in /root/.kivy/logs/kivy_21-07-14_1.txt\n",
            "[INFO   ] [Kivy        ] v2.0.0\n",
            "[INFO   ] [Kivy        ] Installed at \"/usr/local/lib/python3.7/dist-packages/kivy/__init__.py\"\n",
            "[INFO   ] [Python      ] v3.7.10 (default, May  3 2021, 02:48:31) \n",
            "[GCC 7.5.0]\n",
            "[INFO   ] [Python      ] Interpreter at \"/usr/bin/python3\"\n",
            "[INFO   ] [Factory     ] 186 symbols loaded\n",
            "[INFO   ] [Image       ] Providers: img_tex, img_dds, img_sdl2, img_pil (img_ffpyplayer ignored)\n",
            "[INFO   ] [Window      ] Provider: sdl2\n"
          ],
          "name": "stderr"
        }
      ]
    },
    {
      "cell_type": "code",
      "metadata": {
        "colab": {
          "base_uri": "https://localhost:8080/"
        },
        "id": "dvq7_6HRpV-6",
        "outputId": "8821e503-1d17-4621-a44f-05b89c634783"
      },
      "source": [
        "!pip install kivy"
      ],
      "execution_count": 2,
      "outputs": [
        {
          "output_type": "stream",
          "text": [
            "Collecting kivy\n",
            "\u001b[?25l  Downloading https://files.pythonhosted.org/packages/3f/d9/0d06e8dc8be200e5cca19e4cd011ef3919bdf0bd4a50e5e2018d7c61a371/Kivy-2.0.0-cp37-cp37m-manylinux2010_x86_64.whl (19.2MB)\n",
            "\u001b[K     |████████████████████████████████| 19.2MB 1.3MB/s \n",
            "\u001b[?25hRequirement already satisfied: pygments in /usr/local/lib/python3.7/dist-packages (from kivy) (2.6.1)\n",
            "Requirement already satisfied: docutils in /usr/local/lib/python3.7/dist-packages (from kivy) (0.17.1)\n",
            "Collecting Kivy-Garden>=0.1.4\n",
            "  Downloading https://files.pythonhosted.org/packages/7d/68/decaee596ff8168a39432eb3949fc7c0be952ebb9467806823bffc165d48/kivy-garden-0.1.4.tar.gz\n",
            "Requirement already satisfied: requests in /usr/local/lib/python3.7/dist-packages (from Kivy-Garden>=0.1.4->kivy) (2.23.0)\n",
            "Requirement already satisfied: certifi>=2017.4.17 in /usr/local/lib/python3.7/dist-packages (from requests->Kivy-Garden>=0.1.4->kivy) (2021.5.30)\n",
            "Requirement already satisfied: chardet<4,>=3.0.2 in /usr/local/lib/python3.7/dist-packages (from requests->Kivy-Garden>=0.1.4->kivy) (3.0.4)\n",
            "Requirement already satisfied: idna<3,>=2.5 in /usr/local/lib/python3.7/dist-packages (from requests->Kivy-Garden>=0.1.4->kivy) (2.10)\n",
            "Requirement already satisfied: urllib3!=1.25.0,!=1.25.1,<1.26,>=1.21.1 in /usr/local/lib/python3.7/dist-packages (from requests->Kivy-Garden>=0.1.4->kivy) (1.24.3)\n",
            "Building wheels for collected packages: Kivy-Garden\n",
            "  Building wheel for Kivy-Garden (setup.py) ... \u001b[?25l\u001b[?25hdone\n",
            "  Created wheel for Kivy-Garden: filename=Kivy_Garden-0.1.4-cp37-none-any.whl size=4533 sha256=2e2fb79b1c6a421cc008ff9aa2bcd1634b2a1125c38e3afdffad582289b05148\n",
            "  Stored in directory: /root/.cache/pip/wheels/e5/09/36/4bec048252175b6aa7ba75441cbeed8f31a0bea37abedcfed0\n",
            "Successfully built Kivy-Garden\n",
            "Installing collected packages: Kivy-Garden, kivy\n",
            "Successfully installed Kivy-Garden-0.1.4 kivy-2.0.0\n"
          ],
          "name": "stdout"
        }
      ]
    }
  ]
}